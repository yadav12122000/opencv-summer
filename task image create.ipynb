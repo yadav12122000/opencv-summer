{
 "cells": [
  {
   "cell_type": "code",
   "execution_count": 2,
   "metadata": {},
   "outputs": [],
   "source": [
    "import cv2"
   ]
  },
  {
   "cell_type": "code",
   "execution_count": 4,
   "metadata": {},
   "outputs": [],
   "source": [
    "cap = cv2.VideoCapture(0)"
   ]
  },
  {
   "cell_type": "code",
   "execution_count": 5,
   "metadata": {},
   "outputs": [],
   "source": [
    "ret , photo = cap.read()"
   ]
  },
  {
   "cell_type": "code",
   "execution_count": 11,
   "metadata": {},
   "outputs": [
    {
     "data": {
      "text/plain": [
       "(480, 640, 3)"
      ]
     },
     "execution_count": 11,
     "metadata": {},
     "output_type": "execute_result"
    }
   ],
   "source": [
    "photo.shape"
   ]
  },
  {
   "cell_type": "code",
   "execution_count": 72,
   "metadata": {},
   "outputs": [],
   "source": [
    "cv2.imshow('hello',img2)\n",
    "cv2.waitKey()\n",
    "cv2.destroyAllWindows()"
   ]
  },
  {
   "cell_type": "code",
   "execution_count": 8,
   "metadata": {},
   "outputs": [],
   "source": [
    "cap.release()"
   ]
  },
  {
   "cell_type": "code",
   "execution_count": 74,
   "metadata": {},
   "outputs": [],
   "source": [
    "import numpy\n",
    "import cv2\n",
    "\n",
    "img2 = numpy.zeros((300,300,3),numpy.uint8)\n",
    "#img2 = numpy.zeros((300,300,3))\n",
    "img2[:,0:100] = (255,125,0)\n",
    "img2[:,100:200] = (0,255,0)\n",
    "img2[:,200:300] = (255,0,255)\n",
    "#for i in img[]:\n",
    " #   for j in .....................:\n",
    "    #    ..............................\n",
    "#for i in ......................:\n",
    " #   for j in .....................:\n",
    "      #  ..............................\n",
    "cv2.imshow('image',img2)\n",
    "cv2.waitKey(0)\n",
    "cv2.destroyAllWindows()"
   ]
  },
  {
   "cell_type": "code",
   "execution_count": 71,
   "metadata": {},
   "outputs": [
    {
     "data": {
      "text/plain": [
       "array([[[255., 125.,   0.],\n",
       "        [255., 125.,   0.],\n",
       "        [255., 125.,   0.],\n",
       "        ...,\n",
       "        [255., 125.,   0.],\n",
       "        [255., 125.,   0.],\n",
       "        [255., 125.,   0.]],\n",
       "\n",
       "       [[255., 125.,   0.],\n",
       "        [255., 125.,   0.],\n",
       "        [255., 125.,   0.],\n",
       "        ...,\n",
       "        [255., 125.,   0.],\n",
       "        [255., 125.,   0.],\n",
       "        [255., 125.,   0.]],\n",
       "\n",
       "       [[255., 125.,   0.],\n",
       "        [255., 125.,   0.],\n",
       "        [255., 125.,   0.],\n",
       "        ...,\n",
       "        [255., 125.,   0.],\n",
       "        [255., 125.,   0.],\n",
       "        [255., 125.,   0.]],\n",
       "\n",
       "       ...,\n",
       "\n",
       "       [[255.,   0., 255.],\n",
       "        [255.,   0., 255.],\n",
       "        [255.,   0., 255.],\n",
       "        ...,\n",
       "        [255.,   0., 255.],\n",
       "        [255.,   0., 255.],\n",
       "        [255.,   0., 255.]],\n",
       "\n",
       "       [[255.,   0., 255.],\n",
       "        [255.,   0., 255.],\n",
       "        [255.,   0., 255.],\n",
       "        ...,\n",
       "        [255.,   0., 255.],\n",
       "        [255.,   0., 255.],\n",
       "        [255.,   0., 255.]],\n",
       "\n",
       "       [[255.,   0., 255.],\n",
       "        [255.,   0., 255.],\n",
       "        [255.,   0., 255.],\n",
       "        ...,\n",
       "        [255.,   0., 255.],\n",
       "        [255.,   0., 255.],\n",
       "        [255.,   0., 255.]]])"
      ]
     },
     "execution_count": 71,
     "metadata": {},
     "output_type": "execute_result"
    }
   ],
   "source": [
    "for i in img2[:,100:200]:\n",
    "    for j in i:\n",
    "        j=128\n",
    "        \n",
    "img2"
   ]
  },
  {
   "cell_type": "code",
   "execution_count": 32,
   "metadata": {},
   "outputs": [
    {
     "data": {
      "text/plain": [
       "(300, 200, 2)"
      ]
     },
     "execution_count": 32,
     "metadata": {},
     "output_type": "execute_result"
    }
   ],
   "source": [
    "img2[:,:,1:3].shape"
   ]
  },
  {
   "cell_type": "code",
   "execution_count": 49,
   "metadata": {},
   "outputs": [],
   "source": [
    "img2[100] = [0,255,0]"
   ]
  },
  {
   "cell_type": "code",
   "execution_count": 50,
   "metadata": {},
   "outputs": [
    {
     "data": {
      "text/plain": [
       "array([[  0, 255,   0],\n",
       "       [  0, 255,   0],\n",
       "       [  0, 255,   0],\n",
       "       [  0, 255,   0],\n",
       "       [  0, 255,   0],\n",
       "       [  0, 255,   0],\n",
       "       [  0, 255,   0],\n",
       "       [  0, 255,   0],\n",
       "       [  0, 255,   0],\n",
       "       [  0, 255,   0],\n",
       "       [  0, 255,   0],\n",
       "       [  0, 255,   0],\n",
       "       [  0, 255,   0],\n",
       "       [  0, 255,   0],\n",
       "       [  0, 255,   0],\n",
       "       [  0, 255,   0],\n",
       "       [  0, 255,   0],\n",
       "       [  0, 255,   0],\n",
       "       [  0, 255,   0],\n",
       "       [  0, 255,   0],\n",
       "       [  0, 255,   0],\n",
       "       [  0, 255,   0],\n",
       "       [  0, 255,   0],\n",
       "       [  0, 255,   0],\n",
       "       [  0, 255,   0],\n",
       "       [  0, 255,   0],\n",
       "       [  0, 255,   0],\n",
       "       [  0, 255,   0],\n",
       "       [  0, 255,   0],\n",
       "       [  0, 255,   0],\n",
       "       [  0, 255,   0],\n",
       "       [  0, 255,   0],\n",
       "       [  0, 255,   0],\n",
       "       [  0, 255,   0],\n",
       "       [  0, 255,   0],\n",
       "       [  0, 255,   0],\n",
       "       [  0, 255,   0],\n",
       "       [  0, 255,   0],\n",
       "       [  0, 255,   0],\n",
       "       [  0, 255,   0],\n",
       "       [  0, 255,   0],\n",
       "       [  0, 255,   0],\n",
       "       [  0, 255,   0],\n",
       "       [  0, 255,   0],\n",
       "       [  0, 255,   0],\n",
       "       [  0, 255,   0],\n",
       "       [  0, 255,   0],\n",
       "       [  0, 255,   0],\n",
       "       [  0, 255,   0],\n",
       "       [  0, 255,   0],\n",
       "       [  0, 255,   0],\n",
       "       [  0, 255,   0],\n",
       "       [  0, 255,   0],\n",
       "       [  0, 255,   0],\n",
       "       [  0, 255,   0],\n",
       "       [  0, 255,   0],\n",
       "       [  0, 255,   0],\n",
       "       [  0, 255,   0],\n",
       "       [  0, 255,   0],\n",
       "       [  0, 255,   0],\n",
       "       [  0, 255,   0],\n",
       "       [  0, 255,   0],\n",
       "       [  0, 255,   0],\n",
       "       [  0, 255,   0],\n",
       "       [  0, 255,   0],\n",
       "       [  0, 255,   0],\n",
       "       [  0, 255,   0],\n",
       "       [  0, 255,   0],\n",
       "       [  0, 255,   0],\n",
       "       [  0, 255,   0],\n",
       "       [  0, 255,   0],\n",
       "       [  0, 255,   0],\n",
       "       [  0, 255,   0],\n",
       "       [  0, 255,   0],\n",
       "       [  0, 255,   0],\n",
       "       [  0, 255,   0],\n",
       "       [  0, 255,   0],\n",
       "       [  0, 255,   0],\n",
       "       [  0, 255,   0],\n",
       "       [  0, 255,   0],\n",
       "       [  0, 255,   0],\n",
       "       [  0, 255,   0],\n",
       "       [  0, 255,   0],\n",
       "       [  0, 255,   0],\n",
       "       [  0, 255,   0],\n",
       "       [  0, 255,   0],\n",
       "       [  0, 255,   0],\n",
       "       [  0, 255,   0],\n",
       "       [  0, 255,   0],\n",
       "       [  0, 255,   0],\n",
       "       [  0, 255,   0],\n",
       "       [  0, 255,   0],\n",
       "       [  0, 255,   0],\n",
       "       [  0, 255,   0],\n",
       "       [  0, 255,   0],\n",
       "       [  0, 255,   0],\n",
       "       [  0, 255,   0],\n",
       "       [  0, 255,   0],\n",
       "       [  0, 255,   0],\n",
       "       [  0, 255,   0],\n",
       "       [  0, 255,   0],\n",
       "       [  0, 255,   0],\n",
       "       [  0, 255,   0],\n",
       "       [  0, 255,   0],\n",
       "       [  0, 255,   0],\n",
       "       [  0, 255,   0],\n",
       "       [  0, 255,   0],\n",
       "       [  0, 255,   0],\n",
       "       [  0, 255,   0],\n",
       "       [  0, 255,   0],\n",
       "       [  0, 255,   0],\n",
       "       [  0, 255,   0],\n",
       "       [  0, 255,   0],\n",
       "       [  0, 255,   0],\n",
       "       [  0, 255,   0],\n",
       "       [  0, 255,   0],\n",
       "       [  0, 255,   0],\n",
       "       [  0, 255,   0],\n",
       "       [  0, 255,   0],\n",
       "       [  0, 255,   0],\n",
       "       [  0, 255,   0],\n",
       "       [  0, 255,   0],\n",
       "       [  0, 255,   0],\n",
       "       [  0, 255,   0],\n",
       "       [  0, 255,   0],\n",
       "       [  0, 255,   0],\n",
       "       [  0, 255,   0],\n",
       "       [  0, 255,   0],\n",
       "       [  0, 255,   0],\n",
       "       [  0, 255,   0],\n",
       "       [  0, 255,   0],\n",
       "       [  0, 255,   0],\n",
       "       [  0, 255,   0],\n",
       "       [  0, 255,   0],\n",
       "       [  0, 255,   0],\n",
       "       [  0, 255,   0],\n",
       "       [  0, 255,   0],\n",
       "       [  0, 255,   0],\n",
       "       [  0, 255,   0],\n",
       "       [  0, 255,   0],\n",
       "       [  0, 255,   0],\n",
       "       [  0, 255,   0],\n",
       "       [  0, 255,   0],\n",
       "       [  0, 255,   0],\n",
       "       [  0, 255,   0],\n",
       "       [  0, 255,   0],\n",
       "       [  0, 255,   0],\n",
       "       [  0, 255,   0],\n",
       "       [  0, 255,   0],\n",
       "       [  0, 255,   0],\n",
       "       [  0, 255,   0],\n",
       "       [  0, 255,   0],\n",
       "       [  0, 255,   0],\n",
       "       [  0, 255,   0],\n",
       "       [  0, 255,   0],\n",
       "       [  0, 255,   0],\n",
       "       [  0, 255,   0],\n",
       "       [  0, 255,   0],\n",
       "       [  0, 255,   0],\n",
       "       [  0, 255,   0],\n",
       "       [  0, 255,   0],\n",
       "       [  0, 255,   0],\n",
       "       [  0, 255,   0],\n",
       "       [  0, 255,   0],\n",
       "       [  0, 255,   0],\n",
       "       [  0, 255,   0],\n",
       "       [  0, 255,   0],\n",
       "       [  0, 255,   0],\n",
       "       [  0, 255,   0],\n",
       "       [  0, 255,   0],\n",
       "       [  0, 255,   0],\n",
       "       [  0, 255,   0],\n",
       "       [  0, 255,   0],\n",
       "       [  0, 255,   0],\n",
       "       [  0, 255,   0],\n",
       "       [  0, 255,   0],\n",
       "       [  0, 255,   0],\n",
       "       [  0, 255,   0],\n",
       "       [  0, 255,   0],\n",
       "       [  0, 255,   0],\n",
       "       [  0, 255,   0],\n",
       "       [  0, 255,   0],\n",
       "       [  0, 255,   0],\n",
       "       [  0, 255,   0],\n",
       "       [  0, 255,   0],\n",
       "       [  0, 255,   0],\n",
       "       [  0, 255,   0],\n",
       "       [  0, 255,   0],\n",
       "       [  0, 255,   0],\n",
       "       [  0, 255,   0],\n",
       "       [  0, 255,   0],\n",
       "       [  0, 255,   0],\n",
       "       [  0, 255,   0],\n",
       "       [  0, 255,   0],\n",
       "       [  0, 255,   0],\n",
       "       [  0, 255,   0],\n",
       "       [  0, 255,   0],\n",
       "       [  0, 255,   0],\n",
       "       [  0, 255,   0],\n",
       "       [  0, 255,   0],\n",
       "       [  0, 255,   0],\n",
       "       [  0, 255,   0],\n",
       "       [  0, 255,   0],\n",
       "       [  0, 255,   0],\n",
       "       [  0, 255,   0],\n",
       "       [  0, 255,   0],\n",
       "       [  0, 255,   0],\n",
       "       [  0, 255,   0],\n",
       "       [  0, 255,   0],\n",
       "       [  0, 255,   0],\n",
       "       [  0, 255,   0],\n",
       "       [  0, 255,   0],\n",
       "       [  0, 255,   0],\n",
       "       [  0, 255,   0],\n",
       "       [  0, 255,   0],\n",
       "       [  0, 255,   0],\n",
       "       [  0, 255,   0],\n",
       "       [  0, 255,   0],\n",
       "       [  0, 255,   0],\n",
       "       [  0, 255,   0],\n",
       "       [  0, 255,   0],\n",
       "       [  0, 255,   0],\n",
       "       [  0, 255,   0],\n",
       "       [  0, 255,   0],\n",
       "       [  0, 255,   0],\n",
       "       [  0, 255,   0],\n",
       "       [  0, 255,   0],\n",
       "       [  0, 255,   0],\n",
       "       [  0, 255,   0],\n",
       "       [  0, 255,   0],\n",
       "       [  0, 255,   0],\n",
       "       [  0, 255,   0],\n",
       "       [  0, 255,   0],\n",
       "       [  0, 255,   0],\n",
       "       [  0, 255,   0],\n",
       "       [  0, 255,   0],\n",
       "       [  0, 255,   0],\n",
       "       [  0, 255,   0],\n",
       "       [  0, 255,   0],\n",
       "       [  0, 255,   0],\n",
       "       [  0, 255,   0],\n",
       "       [  0, 255,   0],\n",
       "       [  0, 255,   0],\n",
       "       [  0, 255,   0],\n",
       "       [  0, 255,   0],\n",
       "       [  0, 255,   0],\n",
       "       [  0, 255,   0],\n",
       "       [  0, 255,   0],\n",
       "       [  0, 255,   0],\n",
       "       [  0, 255,   0],\n",
       "       [  0, 255,   0],\n",
       "       [  0, 255,   0],\n",
       "       [  0, 255,   0],\n",
       "       [  0, 255,   0],\n",
       "       [  0, 255,   0],\n",
       "       [  0, 255,   0],\n",
       "       [  0, 255,   0],\n",
       "       [  0, 255,   0],\n",
       "       [  0, 255,   0],\n",
       "       [  0, 255,   0],\n",
       "       [  0, 255,   0],\n",
       "       [  0, 255,   0],\n",
       "       [  0, 255,   0],\n",
       "       [  0, 255,   0],\n",
       "       [  0, 255,   0],\n",
       "       [  0, 255,   0],\n",
       "       [  0, 255,   0],\n",
       "       [  0, 255,   0],\n",
       "       [  0, 255,   0],\n",
       "       [  0, 255,   0],\n",
       "       [  0, 255,   0],\n",
       "       [  0, 255,   0],\n",
       "       [  0, 255,   0],\n",
       "       [  0, 255,   0],\n",
       "       [  0, 255,   0],\n",
       "       [  0, 255,   0],\n",
       "       [  0, 255,   0],\n",
       "       [  0, 255,   0],\n",
       "       [  0, 255,   0],\n",
       "       [  0, 255,   0],\n",
       "       [  0, 255,   0],\n",
       "       [  0, 255,   0],\n",
       "       [  0, 255,   0],\n",
       "       [  0, 255,   0],\n",
       "       [  0, 255,   0],\n",
       "       [  0, 255,   0],\n",
       "       [  0, 255,   0],\n",
       "       [  0, 255,   0],\n",
       "       [  0, 255,   0],\n",
       "       [  0, 255,   0],\n",
       "       [  0, 255,   0],\n",
       "       [  0, 255,   0],\n",
       "       [  0, 255,   0],\n",
       "       [  0, 255,   0],\n",
       "       [  0, 255,   0],\n",
       "       [  0, 255,   0],\n",
       "       [  0, 255,   0],\n",
       "       [  0, 255,   0],\n",
       "       [  0, 255,   0],\n",
       "       [  0, 255,   0]], dtype=uint8)"
      ]
     },
     "execution_count": 50,
     "metadata": {},
     "output_type": "execute_result"
    }
   ],
   "source": [
    "img2[100]"
   ]
  },
  {
   "cell_type": "code",
   "execution_count": 56,
   "metadata": {},
   "outputs": [],
   "source": [
    "\n",
    "import numpy\n",
    "import cv2\n",
    "\n",
    "img = numpy.ones((300,300,1),numpy.uint8)*100\n",
    "cv2.imshow('image',img)\n",
    "cv2.waitKey(0)\n",
    "cv2.destroyAllWindows()"
   ]
  },
  {
   "cell_type": "code",
   "execution_count": 63,
   "metadata": {},
   "outputs": [],
   "source": [
    "img2[100] = [155,0,0]"
   ]
  },
  {
   "cell_type": "code",
   "execution_count": 75,
   "metadata": {},
   "outputs": [],
   "source": [
    "img2 = numpy.zeros((300,300,3),numpy.uint8)\n",
    "#img2 = numpy.zeros((300,300,3))\n",
    "img2[:,0:100] = (255,125,0)\n",
    "img2[:,100:200] = (0,255,0)\n",
    "img2[:,200:300] = (255,0,255)"
   ]
  },
  {
   "cell_type": "code",
   "execution_count": 76,
   "metadata": {},
   "outputs": [
    {
     "data": {
      "text/plain": [
       "(300, 300, 3)"
      ]
     },
     "execution_count": 76,
     "metadata": {},
     "output_type": "execute_result"
    }
   ],
   "source": [
    "img2.shape"
   ]
  },
  {
   "cell_type": "code",
   "execution_count": 77,
   "metadata": {},
   "outputs": [],
   "source": [
    "img3 = numpy.zeros((300,300,3),numpy.uint8)\n",
    "#img2 = numpy.zeros((300,300,3))\n",
    "img3[0:100] = (255,125,0)\n",
    "img3[100:200] = (0,255,0)\n",
    "img3[200:300] = (255,0,255)"
   ]
  },
  {
   "cell_type": "code",
   "execution_count": 78,
   "metadata": {},
   "outputs": [
    {
     "data": {
      "text/plain": [
       "(300, 300, 3)"
      ]
     },
     "execution_count": 78,
     "metadata": {},
     "output_type": "execute_result"
    }
   ],
   "source": [
    "img3.shape"
   ]
  },
  {
   "cell_type": "code",
   "execution_count": 79,
   "metadata": {},
   "outputs": [
    {
     "data": {
      "text/plain": [
       "numpy.ndarray"
      ]
     },
     "execution_count": 79,
     "metadata": {},
     "output_type": "execute_result"
    }
   ],
   "source": [
    "type(img3)"
   ]
  },
  {
   "cell_type": "code",
   "execution_count": 83,
   "metadata": {},
   "outputs": [],
   "source": [
    "new = numpy.hstack((img2,img3))"
   ]
  },
  {
   "cell_type": "code",
   "execution_count": 86,
   "metadata": {},
   "outputs": [],
   "source": [
    "#new.shape\n",
    "cv2.imshow('image',new)\n",
    "cv2.waitKey(0)\n",
    "cv2.destroyAllWindows()"
   ]
  },
  {
   "cell_type": "code",
   "execution_count": 85,
   "metadata": {},
   "outputs": [
    {
     "data": {
      "text/plain": [
       "(100, 300, 3)"
      ]
     },
     "execution_count": 85,
     "metadata": {},
     "output_type": "execute_result"
    }
   ],
   "source": []
  },
  {
   "cell_type": "code",
   "execution_count": 135,
   "metadata": {},
   "outputs": [],
   "source": [
    "ar = numpy.zeros((500,400,3))"
   ]
  },
  {
   "cell_type": "code",
   "execution_count": 136,
   "metadata": {},
   "outputs": [],
   "source": [
    "ar[100:400,100:200] = (125,125,120)"
   ]
  },
  {
   "cell_type": "code",
   "execution_count": 123,
   "metadata": {},
   "outputs": [
    {
     "data": {
      "text/plain": [
       "array([[[  0.,   0.,   0.],\n",
       "        [  0.,   0.,   0.],\n",
       "        [  0.,   0.,   0.],\n",
       "        [  0.,   0.,   0.]],\n",
       "\n",
       "       [[  0.,   0.,   0.],\n",
       "        [  0., 125.,   0.],\n",
       "        [  0., 125.,   0.],\n",
       "        [  0., 125.,   0.]],\n",
       "\n",
       "       [[  0.,   0.,   0.],\n",
       "        [  0., 125.,   0.],\n",
       "        [  0., 125.,   0.],\n",
       "        [  0., 125.,   0.]],\n",
       "\n",
       "       [[  0.,   0.,   0.],\n",
       "        [  0., 125.,   0.],\n",
       "        [  0., 125.,   0.],\n",
       "        [  0., 125.,   0.]],\n",
       "\n",
       "       [[  0.,   0.,   0.],\n",
       "        [  0., 125.,   0.],\n",
       "        [  0., 125.,   0.],\n",
       "        [  0., 125.,   0.]]])"
      ]
     },
     "execution_count": 123,
     "metadata": {},
     "output_type": "execute_result"
    }
   ],
   "source": [
    "ar"
   ]
  },
  {
   "cell_type": "code",
   "execution_count": 137,
   "metadata": {},
   "outputs": [],
   "source": [
    "cv2.imshow('image',ar)\n",
    "cv2.waitKey(0)\n",
    "cv2.destroyAllWindows()"
   ]
  },
  {
   "cell_type": "code",
   "execution_count": 163,
   "metadata": {},
   "outputs": [],
   "source": [
    "import cv2"
   ]
  },
  {
   "cell_type": "code",
   "execution_count": 164,
   "metadata": {},
   "outputs": [],
   "source": [
    "photo = cv2.imread('john.jpeg')"
   ]
  },
  {
   "cell_type": "code",
   "execution_count": 165,
   "metadata": {},
   "outputs": [],
   "source": [
    "photo2 = cv2.imread('unkn.jpeg')"
   ]
  },
  {
   "cell_type": "code",
   "execution_count": 147,
   "metadata": {},
   "outputs": [
    {
     "data": {
      "text/plain": [
       "(194, 259, 3)"
      ]
     },
     "execution_count": 147,
     "metadata": {},
     "output_type": "execute_result"
    }
   ],
   "source": [
    "photo.shape"
   ]
  },
  {
   "cell_type": "code",
   "execution_count": 148,
   "metadata": {},
   "outputs": [
    {
     "data": {
      "text/plain": [
       "(189, 267, 3)"
      ]
     },
     "execution_count": 148,
     "metadata": {},
     "output_type": "execute_result"
    }
   ],
   "source": [
    "photo2.shape"
   ]
  },
  {
   "cell_type": "code",
   "execution_count": 21,
   "metadata": {},
   "outputs": [],
   "source": [
    "photo[100:200,100:200],photo2[100:200,100:200] = photo2[100:200,100:200],photo[100:200,100:200]"
   ]
  },
  {
   "cell_type": "code",
   "execution_count": 29,
   "metadata": {},
   "outputs": [],
   "source": [
    "cv2.imshow('image',photo2)\n",
    "cv2.waitKey(0)\n",
    "cv2.destroyAllWindows()"
   ]
  },
  {
   "cell_type": "code",
   "execution_count": 149,
   "metadata": {},
   "outputs": [],
   "source": [
    "rphoto = cv2.rectangle(photo, (100,0),(170,100), [0,255,0], 2 )"
   ]
  },
  {
   "cell_type": "code",
   "execution_count": 150,
   "metadata": {},
   "outputs": [],
   "source": [
    "rphoto2 = cv2.rectangle(photo2 , (100,0),(170,100),[0,255,0], 2 )"
   ]
  },
  {
   "cell_type": "code",
   "execution_count": 167,
   "metadata": {},
   "outputs": [],
   "source": [
    "photo2[0:100,100:170] = photo[20:120,100:170]"
   ]
  },
  {
   "cell_type": "code",
   "execution_count": 170,
   "metadata": {},
   "outputs": [],
   "source": [
    "cv2.imshow('image',photo)\n",
    "cv2.waitKey(0)\n",
    "cv2.destroyAllWindows()"
   ]
  },
  {
   "cell_type": "code",
   "execution_count": 1,
   "metadata": {},
   "outputs": [
    {
     "ename": "NameError",
     "evalue": "name 'photo2' is not defined",
     "output_type": "error",
     "traceback": [
      "\u001b[1;31m---------------------------------------------------------------------------\u001b[0m",
      "\u001b[1;31mNameError\u001b[0m                                 Traceback (most recent call last)",
      "\u001b[1;32m<ipython-input-1-7d26cd4c91be>\u001b[0m in \u001b[0;36m<module>\u001b[1;34m\u001b[0m\n\u001b[1;32m----> 1\u001b[1;33m \u001b[0mphoto\u001b[0m\u001b[1;33m[\u001b[0m\u001b[1;36m20\u001b[0m\u001b[1;33m:\u001b[0m\u001b[1;36m120\u001b[0m\u001b[1;33m,\u001b[0m\u001b[1;36m100\u001b[0m\u001b[1;33m:\u001b[0m\u001b[1;36m170\u001b[0m\u001b[1;33m]\u001b[0m \u001b[1;33m=\u001b[0m \u001b[0mphoto2\u001b[0m\u001b[1;33m[\u001b[0m\u001b[1;36m0\u001b[0m\u001b[1;33m:\u001b[0m\u001b[1;36m100\u001b[0m\u001b[1;33m,\u001b[0m\u001b[1;36m100\u001b[0m\u001b[1;33m:\u001b[0m\u001b[1;36m170\u001b[0m\u001b[1;33m]\u001b[0m\u001b[1;33m\u001b[0m\u001b[1;33m\u001b[0m\u001b[0m\n\u001b[0m",
      "\u001b[1;31mNameError\u001b[0m: name 'photo2' is not defined"
     ]
    }
   ],
   "source": [
    "photo[20:120,100:170] = photo2[0:100,100:170]"
   ]
  },
  {
   "cell_type": "code",
   "execution_count": 120,
   "metadata": {},
   "outputs": [],
   "source": [
    "import cv2"
   ]
  },
  {
   "cell_type": "code",
   "execution_count": 130,
   "metadata": {},
   "outputs": [],
   "source": [
    "photo1 = cv2.imread('john.jpeg')"
   ]
  },
  {
   "cell_type": "code",
   "execution_count": 111,
   "metadata": {},
   "outputs": [],
   "source": [
    "photo2 = cv2.imread(\"unkn.jpeg\")"
   ]
  },
  {
   "cell_type": "code",
   "execution_count": 60,
   "metadata": {},
   "outputs": [
    {
     "data": {
      "text/plain": [
       "(194, 259, 3)"
      ]
     },
     "execution_count": 60,
     "metadata": {},
     "output_type": "execute_result"
    }
   ],
   "source": [
    "photo1.shape"
   ]
  },
  {
   "cell_type": "code",
   "execution_count": 61,
   "metadata": {},
   "outputs": [
    {
     "data": {
      "text/plain": [
       "(189, 267, 3)"
      ]
     },
     "execution_count": 61,
     "metadata": {},
     "output_type": "execute_result"
    }
   ],
   "source": [
    "photo2.shape"
   ]
  },
  {
   "cell_type": "code",
   "execution_count": 131,
   "metadata": {},
   "outputs": [],
   "source": [
    "cp1 = photo1[0:180,0:250]"
   ]
  },
  {
   "cell_type": "code",
   "execution_count": 123,
   "metadata": {},
   "outputs": [
    {
     "data": {
      "text/plain": [
       "(180, 250, 3)"
      ]
     },
     "execution_count": 123,
     "metadata": {},
     "output_type": "execute_result"
    }
   ],
   "source": [
    "cp1.shape"
   ]
  },
  {
   "cell_type": "code",
   "execution_count": 64,
   "metadata": {},
   "outputs": [],
   "source": [
    "cp2 = photo2[0:180,0:250]"
   ]
  },
  {
   "cell_type": "code",
   "execution_count": 65,
   "metadata": {},
   "outputs": [
    {
     "data": {
      "text/plain": [
       "(180, 250, 3)"
      ]
     },
     "execution_count": 65,
     "metadata": {},
     "output_type": "execute_result"
    }
   ],
   "source": [
    "cp2.shape"
   ]
  },
  {
   "cell_type": "code",
   "execution_count": 66,
   "metadata": {},
   "outputs": [],
   "source": [
    "import numpy"
   ]
  },
  {
   "cell_type": "code",
   "execution_count": 70,
   "metadata": {},
   "outputs": [],
   "source": [
    "np = numpy.hstack((cp1,cp2))"
   ]
  },
  {
   "cell_type": "code",
   "execution_count": 71,
   "metadata": {},
   "outputs": [
    {
     "data": {
      "text/plain": [
       "(180, 500, 3)"
      ]
     },
     "execution_count": 71,
     "metadata": {},
     "output_type": "execute_result"
    }
   ],
   "source": [
    "np.shape"
   ]
  },
  {
   "cell_type": "code",
   "execution_count": 72,
   "metadata": {},
   "outputs": [],
   "source": [
    "cv2.imshow('image',np)\n",
    "cv2.waitKey(0)\n",
    "cv2.destroyAllWindows()"
   ]
  },
  {
   "cell_type": "code",
   "execution_count": 132,
   "metadata": {},
   "outputs": [],
   "source": [
    "clr = cv2.cvtColor(cp1, cv2.COLOR_BGR2XYZ)"
   ]
  },
  {
   "cell_type": "code",
   "execution_count": 133,
   "metadata": {},
   "outputs": [],
   "source": [
    "hs = numpy.hstack((cp1,clr))"
   ]
  },
  {
   "cell_type": "code",
   "execution_count": 134,
   "metadata": {},
   "outputs": [
    {
     "data": {
      "text/plain": [
       "(180, 500, 3)"
      ]
     },
     "execution_count": 134,
     "metadata": {},
     "output_type": "execute_result"
    }
   ],
   "source": [
    "hs.shape"
   ]
  },
  {
   "cell_type": "code",
   "execution_count": 135,
   "metadata": {},
   "outputs": [],
   "source": [
    "cv2.imshow('image',hs)\n",
    "cv2.waitKey(0)\n",
    "cv2.destroyAllWindows()"
   ]
  },
  {
   "cell_type": "code",
   "execution_count": 138,
   "metadata": {},
   "outputs": [],
   "source": [
    "#hs[0:100,100:170],hs[0:100,350:420] = hs[0:100,350:420],hs[0:100,100:170]\n",
    "temp = numpy.copy(hs)\n",
    "temp[0:100,100:170] = hs[0:100,350:420]\n",
    "#temp2 = hs[0:100,350:420]\n",
    "#hs[0:100,350:420] = temp\n",
    "temp[0:100,350:420] = hs[0:100,100:170]\n",
    "#hs[0:100,350:420] = temp\n",
    "cv2.imshow('image',temp)\n",
    "cv2.waitKey(0)\n",
    "cv2.destroyAllWindows()"
   ]
  },
  {
   "cell_type": "code",
   "execution_count": 87,
   "metadata": {},
   "outputs": [
    {
     "data": {
      "text/plain": [
       "(180, 250, 3)"
      ]
     },
     "execution_count": 87,
     "metadata": {},
     "output_type": "execute_result"
    }
   ],
   "source": [
    "clr.shape"
   ]
  },
  {
   "cell_type": "code",
   "execution_count": 50,
   "metadata": {},
   "outputs": [],
   "source": [
    "cp1[0:100,100:170],clr[0:100,100:170] = clr[0:100,100:170],cp1[0:100,100:170]"
   ]
  },
  {
   "cell_type": "code",
   "execution_count": 51,
   "metadata": {},
   "outputs": [],
   "source": [
    "cv2.imshow('image',cp1)\n",
    "cv2.waitKey(0)\n",
    "cv2.destroyAllWindows()"
   ]
  },
  {
   "cell_type": "code",
   "execution_count": 58,
   "metadata": {},
   "outputs": [],
   "source": [
    "# ---------------------------------collage the images -----------------------------------------------------\n",
    "import cv2\n",
    "roman = cv2.imread('roman.jpg')"
   ]
  },
  {
   "cell_type": "code",
   "execution_count": 59,
   "metadata": {},
   "outputs": [],
   "source": [
    "rom = roman[:,100:600]"
   ]
  },
  {
   "cell_type": "code",
   "execution_count": 60,
   "metadata": {},
   "outputs": [
    {
     "data": {
      "text/plain": [
       "(457, 500, 3)"
      ]
     },
     "execution_count": 60,
     "metadata": {},
     "output_type": "execute_result"
    }
   ],
   "source": [
    "rom.shape"
   ]
  },
  {
   "cell_type": "code",
   "execution_count": 61,
   "metadata": {},
   "outputs": [],
   "source": [
    "cv2.imshow('image',rom)\n",
    "cv2.waitKey(0)\n",
    "cv2.destroyAllWindows()"
   ]
  },
  {
   "cell_type": "code",
   "execution_count": 62,
   "metadata": {},
   "outputs": [],
   "source": [
    "john = cv2.imread('john.jpeg')"
   ]
  },
  {
   "cell_type": "code",
   "execution_count": 63,
   "metadata": {},
   "outputs": [],
   "source": [
    "john1 = john[0:180,0:250]"
   ]
  },
  {
   "cell_type": "code",
   "execution_count": 64,
   "metadata": {},
   "outputs": [],
   "source": [
    "unkn = cv2.imread(\"unkn.jpeg\")\n",
    "unkn1 = unkn[0:180,0:250]"
   ]
  },
  {
   "cell_type": "code",
   "execution_count": 65,
   "metadata": {},
   "outputs": [],
   "source": [
    "import numpy\n",
    "both = numpy.hstack((john1,unkn1))"
   ]
  },
  {
   "cell_type": "code",
   "execution_count": 66,
   "metadata": {},
   "outputs": [
    {
     "data": {
      "text/plain": [
       "(180, 500, 3)"
      ]
     },
     "execution_count": 66,
     "metadata": {},
     "output_type": "execute_result"
    }
   ],
   "source": [
    "both.shape"
   ]
  },
  {
   "cell_type": "code",
   "execution_count": 67,
   "metadata": {},
   "outputs": [],
   "source": [
    "collage = numpy.vstack((rom,both))"
   ]
  },
  {
   "cell_type": "code",
   "execution_count": 68,
   "metadata": {},
   "outputs": [],
   "source": [
    "cv2.imshow('image',collage)\n",
    "cv2.waitKey(0)\n",
    "cv2.destroyAllWindows()\n",
    "# ---------------------------------------collage end -------------------------------------------"
   ]
  },
  {
   "cell_type": "code",
   "execution_count": 139,
   "metadata": {},
   "outputs": [],
   "source": [
    "# ---------------------------swap the images ---------------------------------------------------\n"
   ]
  },
  {
   "cell_type": "code",
   "execution_count": 48,
   "metadata": {},
   "outputs": [],
   "source": [
    "import cv2\n"
   ]
  },
  {
   "cell_type": "code",
   "execution_count": 49,
   "metadata": {},
   "outputs": [],
   "source": [
    "photo1 = cv2.imread('john.jpeg')"
   ]
  },
  {
   "cell_type": "code",
   "execution_count": 50,
   "metadata": {},
   "outputs": [
    {
     "data": {
      "text/plain": [
       "(194, 259, 3)"
      ]
     },
     "execution_count": 50,
     "metadata": {},
     "output_type": "execute_result"
    }
   ],
   "source": [
    "photo1.shape"
   ]
  },
  {
   "cell_type": "code",
   "execution_count": 51,
   "metadata": {},
   "outputs": [],
   "source": [
    "cp1 = photo1[0:180,0:250]"
   ]
  },
  {
   "cell_type": "code",
   "execution_count": 52,
   "metadata": {},
   "outputs": [
    {
     "data": {
      "text/plain": [
       "(180, 250, 3)"
      ]
     },
     "execution_count": 52,
     "metadata": {},
     "output_type": "execute_result"
    }
   ],
   "source": [
    "cp1.shape"
   ]
  },
  {
   "cell_type": "code",
   "execution_count": 53,
   "metadata": {},
   "outputs": [],
   "source": [
    "clr = cv2.cvtColor(cp1, cv2.COLOR_BGR2XYZ)"
   ]
  },
  {
   "cell_type": "code",
   "execution_count": 54,
   "metadata": {},
   "outputs": [],
   "source": [
    "hs = numpy.hstack((cp1,clr))"
   ]
  },
  {
   "cell_type": "code",
   "execution_count": 55,
   "metadata": {},
   "outputs": [],
   "source": [
    "cv2.imshow('image',hs)\n",
    "cv2.waitKey(0)\n",
    "cv2.destroyAllWindows()"
   ]
  },
  {
   "cell_type": "code",
   "execution_count": 56,
   "metadata": {},
   "outputs": [],
   "source": [
    "# ---------------swap the portion of the image"
   ]
  },
  {
   "cell_type": "code",
   "execution_count": 57,
   "metadata": {},
   "outputs": [],
   "source": [
    "temp = numpy.copy(hs)\n",
    "temp[0:100,100:170] = hs[0:100,350:420]\n",
    "temp[0:100,350:420] = hs[0:100,100:170]\n",
    "cv2.imshow('image',temp)\n",
    "cv2.waitKey(0)\n",
    "cv2.destroyAllWindows()\n",
    "#---------------------end swapping --------------------------------------------------------"
   ]
  },
  {
   "cell_type": "code",
   "execution_count": 148,
   "metadata": {},
   "outputs": [],
   "source": [
    "#--------------------------------------------- create the image -----------------------------------------"
   ]
  },
  {
   "cell_type": "code",
   "execution_count": 43,
   "metadata": {},
   "outputs": [],
   "source": [
    "import numpy\n",
    "import cv2\n",
    "img2 = numpy.zeros((300,300,3),numpy.uint8)\n",
    "img2[:,0:100] = (255,125,0)\n",
    "img2[:,100:200] = (0,255,0)\n",
    "img2[:,200:300] = (255,0,255)"
   ]
  },
  {
   "cell_type": "code",
   "execution_count": 44,
   "metadata": {},
   "outputs": [],
   "source": [
    "img3 = numpy.zeros((300,300,3),numpy.uint8)\n",
    "img3[0:100] = (255,125,0)\n",
    "img3[100:200] = (0,255,0)\n",
    "img3[200:300] = (255,0,255)"
   ]
  },
  {
   "cell_type": "code",
   "execution_count": 45,
   "metadata": {},
   "outputs": [],
   "source": [
    "img4 = numpy.zeros((300,300,3),numpy.uint8)\n",
    "img4[:,0:100] = (255,125,0)\n",
    "img4[:,100:200] = (0,255,0)\n",
    "img4[:,200:300] = (255,0,255)"
   ]
  },
  {
   "cell_type": "code",
   "execution_count": 46,
   "metadata": {},
   "outputs": [],
   "source": [
    "new = numpy.hstack((img2,img3,img4))"
   ]
  },
  {
   "cell_type": "code",
   "execution_count": 47,
   "metadata": {},
   "outputs": [],
   "source": [
    "cv2.imshow('image',new)\n",
    "cv2.waitKey(0)\n",
    "cv2.destroyAllWindows()"
   ]
  },
  {
   "cell_type": "code",
   "execution_count": 16,
   "metadata": {},
   "outputs": [],
   "source": [
    "# create the image and save the image in jpg format"
   ]
  },
  {
   "cell_type": "code",
   "execution_count": 41,
   "metadata": {},
   "outputs": [],
   "source": [
    "img5 = numpy.zeros((500,500,3),numpy.uint8)\n",
    "img5[0:250,0:250] = (255,125,0)\n",
    "img5[0:250:,250:500] = (0,255,0)\n",
    "img5[250:500,250:500] = (255,0,255)\n",
    "img5[250:500:,0:250] = (0,0,255)"
   ]
  },
  {
   "cell_type": "code",
   "execution_count": 42,
   "metadata": {},
   "outputs": [],
   "source": [
    "cv2.imshow('image',img5)\n",
    "cv2.waitKey(0)\n",
    "cv2.destroyAllWindows()"
   ]
  },
  {
   "cell_type": "code",
   "execution_count": 19,
   "metadata": {},
   "outputs": [
    {
     "data": {
      "text/plain": [
       "True"
      ]
     },
     "execution_count": 19,
     "metadata": {},
     "output_type": "execute_result"
    }
   ],
   "source": [
    "cv2.imwrite(\"created.jpg\" , img5)\n"
   ]
  },
  {
   "cell_type": "code",
   "execution_count": null,
   "metadata": {},
   "outputs": [],
   "source": []
  }
 ],
 "metadata": {
  "kernelspec": {
   "display_name": "Python 3",
   "language": "python",
   "name": "python3"
  },
  "language_info": {
   "codemirror_mode": {
    "name": "ipython",
    "version": 3
   },
   "file_extension": ".py",
   "mimetype": "text/x-python",
   "name": "python",
   "nbconvert_exporter": "python",
   "pygments_lexer": "ipython3",
   "version": "3.7.6"
  }
 },
 "nbformat": 4,
 "nbformat_minor": 4
}
